{
 "cells": [
  {
   "cell_type": "code",
   "execution_count": null,
   "metadata": {},
   "outputs": [
    {
     "name": "stdout",
     "output_type": "stream",
     "text": [
      "No more pages\n",
      "Done!\n"
     ]
    }
   ],
   "source": [
    "import sqlite3\n",
    "import csv\n",
    "from selenium import webdriver\n",
    "from time import sleep\n",
    "from bs4 import BeautifulSoup\n",
    "from selenium.webdriver.chrome.options import Options\n",
    "from selenium.webdriver.common.by import By\n",
    "\n",
    "# Elenta svetaines, butai scrape\n",
    "driver = webdriver.Chrome()\n",
    "pagrindinis_url = \"https://elenta.lt\"\n",
    "driver.get(pagrindinis_url)\n",
    "driver.maximize_window()\n",
    "sleep(2)\n",
    "\n",
    "mygtukas = driver.find_element(By.CLASS_NAME, 'fc-button-label')\n",
    "mygtukas.click()\n",
    "sleep(1)\n",
    "\n",
    "mygtukas = driver.find_element(By.CSS_SELECTOR, 'a[href=\"/skelbimai/nt/butai\"]')\n",
    "mygtukas.click()\n",
    "\n",
    "nustatymai = Options()\n",
    "nustatymai.add_argument('--headless')\n",
    "\n",
    "data = []\n",
    "\n",
    "has_next = True\n",
    "while has_next:\n",
    "    sleep(2)\n",
    "    soup = BeautifulSoup(driver.page_source, 'html.parser')\n",
    "    leaflet_items = soup.select('[id^=\"unit-\"]')\n",
    "\n",
    "    for item in leaflet_items:\n",
    "        name_el = item.find('h3', class_='ad-hyperlink')\n",
    "        name = name_el.text.strip() if name_el else 'N/A'\n",
    "\n",
    "        price_el = item.find('span', class_='price-box')\n",
    "        price = price_el.text.strip() if price_el else 'N/A'\n",
    "\n",
    "        location_el = item.find('span', class_='location-box')\n",
    "        location = location_el.text.strip() if location_el else 'N/A'\n",
    "\n",
    "        data.append({\n",
    "            'name': name,\n",
    "            'price': price,\n",
    "            'location': location\n",
    "        })\n",
    "    try:\n",
    "        next_btn = driver.find_element(By.CLASS_NAME, 'pagerNextPage')\n",
    "        next_btn.click()\n",
    "        sleep(2)  \n",
    "    except Exception as e:\n",
    "        # print(\"No more pages\")\n",
    "        has_next = False \n",
    "\n",
    "with open('data.csv', 'w', newline='', encoding='utf-8') as f:\n",
    "    writer = csv.DictWriter(f, fieldnames=['name', 'price', 'location'])\n",
    "    writer.writeheader()\n",
    "    writer.writerows(data)\n",
    "\n",
    "# print(\"Done!\")\n",
    "sleep(10)\n",
    "driver.quit()\n"
   ]
  }
 ],
 "metadata": {
  "kernelspec": {
   "display_name": "Python 3",
   "language": "python",
   "name": "python3"
  },
  "language_info": {
   "codemirror_mode": {
    "name": "ipython",
    "version": 3
   },
   "file_extension": ".py",
   "mimetype": "text/x-python",
   "name": "python",
   "nbconvert_exporter": "python",
   "pygments_lexer": "ipython3",
   "version": "3.13.1"
  }
 },
 "nbformat": 4,
 "nbformat_minor": 2
}
